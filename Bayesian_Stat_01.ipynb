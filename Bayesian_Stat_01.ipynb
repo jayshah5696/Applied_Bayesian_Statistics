{
 "cells": [
  {
   "cell_type": "code",
   "execution_count": 127,
   "metadata": {},
   "outputs": [],
   "source": [
    "import numpy as np\n",
    "import pandas as pd\n",
    "import seaborn as sns\n",
    "import matplotlib.pyplot as plt\n",
    "import warnings\n",
    "warnings.filterwarnings('ignore')\n",
    "%matplotlib inline\n",
    "import math"
   ]
  },
  {
   "cell_type": "code",
   "execution_count": 44,
   "metadata": {},
   "outputs": [],
   "source": [
    "def HPD_gamma(n,ybar,guesses,C,niter=20):\n",
    "    \"\"\"\n",
    "    This function is used to find a HPD Region for an Exponential Rate.\n",
    "    \n",
    "    In the case of Exponential Rate, Posterior probability is Gamma Density.\n",
    "    \n",
    "    To find an HPD Region, we are going to use following algorithm.\n",
    "    \n",
    "    Choose a value of K to get theta0 and theta1,\n",
    "    Use newton method to solve the equation p(theta|y) =k, for its two solution.\n",
    "    Evaluate  prob = p(theta < theta0|y) + p(theta > theta1|y)\n",
    "    \n",
    "    if prob is close to 0.05, then stop and use (theta0, theta1) as the HPD Region.\n",
    "    otherwise repeat the step with different guess.\n",
    "    \n",
    "    gamma uses rate parameterization. \n",
    "    \n",
    "    \"\"\"\n",
    "    from math import gamma,lgamma, log\n",
    "    from scipy.stats import gamma\n",
    "    \n",
    "    \n",
    "    alpha = n\n",
    "    beta = n*ybar\n",
    "    con = alpha*log(beta)-lgamma(alpha)-log(C) # Constant here C is same as K\n",
    "    \n",
    "    theta0 = guesses[0]\n",
    "    theta1 = guesses[1]\n",
    "    \n",
    "    for i in range(0,niter):\n",
    "        theta0=theta0-(con+(alpha-1)*log(theta0)-beta*theta0)/((alpha-1)/theta0-beta)\n",
    "        \n",
    "        theta1=theta1-(con+(alpha-1)*log(theta1)-beta*theta1)/((alpha-1)/theta1-beta)\n",
    "        \n",
    "    \n",
    "    p1 = gamma.cdf(x=theta0,a=alpha,scale = 1/beta)\n",
    "    p2 = 1 - gamma.cdf(x= theta1,a=alpha,scale = 1/beta)\n",
    "    return [theta0,theta1,p1,p2,p1+p2]"
   ]
  },
  {
   "cell_type": "code",
   "execution_count": 45,
   "metadata": {},
   "outputs": [
    {
     "data": {
      "text/plain": [
       "[0.0010047250398282123,\n",
       " 0.0016382592721619624,\n",
       " 0.035255822283253357,\n",
       " 0.052846296044812391,\n",
       " 0.088102118328065748]"
      ]
     },
     "execution_count": 45,
     "metadata": {},
     "output_type": "execute_result"
    }
   ],
   "source": [
    "HPD_gamma(50,756.3,[0.001,0.0017],500)"
   ]
  },
  {
   "cell_type": "code",
   "execution_count": 37,
   "metadata": {},
   "outputs": [
    {
     "data": {
      "text/plain": [
       "[0.0009330382513331387,\n",
       " 0.0017421978192361319,\n",
       " 0.011261385068757099,\n",
       " 0.018291747709398787,\n",
       " 0.029553132778155886]"
      ]
     },
     "execution_count": 37,
     "metadata": {},
     "output_type": "execute_result"
    }
   ],
   "source": [
    "HPD_gamma(50,756.3,[0.001,0.0017],200)"
   ]
  },
  {
   "cell_type": "code",
   "execution_count": 43,
   "metadata": {},
   "outputs": [
    {
     "data": {
      "text/plain": [
       "[0.0009655949278231253,\n",
       " 0.0016938235408311105,\n",
       " 0.0195218153577458,\n",
       " 0.030546387120285234,\n",
       " 0.050068202478031038]"
      ]
     },
     "execution_count": 43,
     "metadata": {},
     "output_type": "execute_result"
    }
   ],
   "source": [
    "HPD_gamma(50,756.3,[0.001,0.0017],313.5)"
   ]
  },
  {
   "cell_type": "code",
   "execution_count": 32,
   "metadata": {},
   "outputs": [
    {
     "data": {
      "text/plain": [
       "0.80085172652854419"
      ]
     },
     "execution_count": 32,
     "metadata": {},
     "output_type": "execute_result"
    }
   ],
   "source": [
    "gamma.cdf(x=3,a=2,loc=0,scale=1)"
   ]
  },
  {
   "cell_type": "code",
   "execution_count": 49,
   "metadata": {},
   "outputs": [
    {
     "data": {
      "text/plain": [
       "array([ 0.00149764,  0.00184344,  0.00101873, ...,  0.00112652,\n",
       "        0.00115368,  0.00157137])"
      ]
     },
     "execution_count": 49,
     "metadata": {},
     "output_type": "execute_result"
    }
   ],
   "source": [
    "gamma.rvs(a=50,scale=1/37815,size=100000)"
   ]
  },
  {
   "cell_type": "code",
   "execution_count": 50,
   "metadata": {},
   "outputs": [],
   "source": [
    "theta = gamma.rvs(a=50,scale=1/37815,size=100000)\n",
    "beta = 1 /theta"
   ]
  },
  {
   "cell_type": "code",
   "execution_count": 51,
   "metadata": {},
   "outputs": [
    {
     "data": {
      "text/plain": [
       "772.00229537324799"
      ]
     },
     "execution_count": 51,
     "metadata": {},
     "output_type": "execute_result"
    }
   ],
   "source": [
    "beta.mean()"
   ]
  },
  {
   "cell_type": "code",
   "execution_count": 52,
   "metadata": {},
   "outputs": [
    {
     "data": {
      "text/plain": [
       "111.96168900992531"
      ]
     },
     "execution_count": 52,
     "metadata": {},
     "output_type": "execute_result"
    }
   ],
   "source": [
    "beta.std()"
   ]
  },
  {
   "cell_type": "code",
   "execution_count": 54,
   "metadata": {},
   "outputs": [],
   "source": [
    "from sklearn.neighbors import KernelDensity\n",
    "from scipy.stats import gaussian_kde\n",
    "from statsmodels.nonparametric.kde import KDEUnivariate\n",
    "from statsmodels.nonparametric.kernel_density import KDEMultivariate\n",
    "\n",
    "# This are various functions to estimate Posterior probabilities\n",
    "def kde_scipy(x, x_grid, bandwidth=0.2, **kwargs):\n",
    "    \"\"\"Kernel Density Estimation with Scipy\"\"\"\n",
    "    # Note that scipy weights its bandwidth by the covariance of the\n",
    "    # input data.  To make the results comparable to the other methods,\n",
    "    # we divide the bandwidth by the sample standard deviation here.\n",
    "    kde = gaussian_kde(x, bw_method=bandwidth / x.std(ddof=1), **kwargs)\n",
    "    return kde.evaluate(x_grid)\n",
    "\n",
    "\n",
    "def kde_statsmodels_u(x, x_grid, bandwidth=0.2, **kwargs):\n",
    "    \"\"\"Univariate Kernel Density Estimation with Statsmodels\"\"\"\n",
    "    kde = KDEUnivariate(x)\n",
    "    kde.fit(bw=bandwidth, **kwargs)\n",
    "    return kde.evaluate(x_grid)\n",
    "    \n",
    "    \n",
    "def kde_statsmodels_m(x, x_grid, bandwidth=0.2, **kwargs):\n",
    "    \"\"\"Multivariate Kernel Density Estimation with Statsmodels\"\"\"\n",
    "    kde = KDEMultivariate(x, bw=bandwidth * np.ones_like(x),\n",
    "                          var_type='c', **kwargs)\n",
    "    return kde.pdf(x_grid)\n",
    "\n",
    "\n",
    "def kde_sklearn(x, x_grid, bandwidth=0.2, **kwargs):\n",
    "    \"\"\"Kernel Density Estimation with Scikit-learn\"\"\"\n",
    "    kde_skl = KernelDensity(bandwidth=bandwidth, **kwargs)\n",
    "    kde_skl.fit(x[:, np.newaxis])\n",
    "    # score_samples() returns the log-likelihood of the samples\n",
    "    log_pdf = kde_skl.score_samples(x_grid[:, np.newaxis])\n",
    "    return np.exp(log_pdf)"
   ]
  },
  {
   "cell_type": "code",
   "execution_count": 55,
   "metadata": {},
   "outputs": [],
   "source": [
    "kde_funcs = [kde_statsmodels_u, kde_statsmodels_m, kde_scipy, kde_sklearn]\n",
    "kde_funcnames = ['Statsmodels-U', 'Statsmodels-M', 'Scipy', 'Scikit-learn']"
   ]
  },
  {
   "cell_type": "code",
   "execution_count": 59,
   "metadata": {},
   "outputs": [
    {
     "name": "stdout",
     "output_type": "stream",
     "text": [
      "0\n",
      "1\n",
      "2\n",
      "3\n"
     ]
    },
    {
     "data": {
      "image/png": "[encoded data removed]",
      "text/plain": [
       "<matplotlib.figure.Figure at 0x1ff85014a90>"
      ]
     },
     "metadata": {},
     "output_type": "display_data"
    }
   ],
   "source": [
    "fig, ax = plt.subplots(1, 4, sharey=True,\n",
    "                       figsize=(13, 3))\n",
    "fig.subplots_adjust(wspace=0)\n",
    "x_grid = np.linspace(400, 1500, 1000)\n",
    "x = beta\n",
    "for i in range(4):\n",
    "    print(i)\n",
    "    try:\n",
    "        pdf = kde_funcs[i](x, x_grid, bandwidth=15)\n",
    "        ax[i].plot(x_grid, pdf, color='blue', alpha=0.5, lw=3)\n",
    "        #ax[i].fill(x_grid, pdf_true, ec='gray', fc='gray', alpha=0.4)\n",
    "        ax[i].set_title(kde_funcnames[i])\n",
    "        ax[i].set_xlim(398, 1550)\n",
    "    except:\n",
    "        pass\n",
    "plt.show()"
   ]
  },
  {
   "cell_type": "code",
   "execution_count": 70,
   "metadata": {},
   "outputs": [],
   "source": [
    "theta = gamma.rvs(a=125,scale=1/14,size=100000)"
   ]
  },
  {
   "cell_type": "code",
   "execution_count": 61,
   "metadata": {},
   "outputs": [
    {
     "data": {
      "text/plain": [
       "numpy.ndarray"
      ]
     },
     "execution_count": 61,
     "metadata": {},
     "output_type": "execute_result"
    }
   ],
   "source": [
    "type(theta)"
   ]
  },
  {
   "cell_type": "code",
   "execution_count": 64,
   "metadata": {},
   "outputs": [
    {
     "data": {
      "text/plain": [
       "[25000.0]"
      ]
     },
     "execution_count": 64,
     "metadata": {},
     "output_type": "execute_result"
    }
   ],
   "source": [
    "[0.25*100000]"
   ]
  },
  {
   "cell_type": "code",
   "execution_count": 71,
   "metadata": {},
   "outputs": [
    {
     "data": {
      "text/plain": [
       "7.4239137043347521"
      ]
     },
     "execution_count": 71,
     "metadata": {},
     "output_type": "execute_result"
    }
   ],
   "source": [
    "np.sort(theta)[2500]"
   ]
  },
  {
   "cell_type": "code",
   "execution_count": 67,
   "metadata": {},
   "outputs": [
    {
     "data": {
      "text/plain": [
       "2500.0"
      ]
     },
     "execution_count": 67,
     "metadata": {},
     "output_type": "execute_result"
    }
   ],
   "source": [
    "2.5/100*100000"
   ]
  },
  {
   "cell_type": "code",
   "execution_count": 72,
   "metadata": {},
   "outputs": [
    {
     "data": {
      "text/plain": [
       "10.567012827744662"
      ]
     },
     "execution_count": 72,
     "metadata": {},
     "output_type": "execute_result"
    }
   ],
   "source": [
    "np.sort(theta)[100000-2500]"
   ]
  },
  {
   "cell_type": "code",
   "execution_count": 73,
   "metadata": {},
   "outputs": [],
   "source": [
    "output = []\n",
    "for n in range(1,51,1):\n",
    "    \n",
    "    y = ((12*n)+113)/(n+13)\n",
    "    output.append(y)\n",
    "    "
   ]
  },
  {
   "cell_type": "code",
   "execution_count": 80,
   "metadata": {},
   "outputs": [],
   "source": [
    "plt.plot(np.arange(1,51,1),np.array(output))\n",
    "\n",
    "plt.xlabel('N0')\n",
    "plt.ylabel('Expectation of Posterior(B)')\n",
    "#plt.show()\n",
    "plt.savefig('F:/JAY/COURSES/STAT_638/HomeWork/HW2/3_3(b).png')"
   ]
  },
  {
   "cell_type": "code",
   "execution_count": 82,
   "metadata": {},
   "outputs": [],
   "source": [
    "\n",
    "from scipy.stats import gamma,beta,binom"
   ]
  },
  {
   "cell_type": "code",
   "execution_count": 119,
   "metadata": {},
   "outputs": [
    {
     "data": {
      "text/plain": [
       "<matplotlib.legend.Legend at 0x1ff86a0e438>"
      ]
     },
     "execution_count": 119,
     "metadata": {},
     "output_type": "execute_result"
    },
    {
     "data": {
      "image/png": "[encoded data removed]",
      "text/plain": [
       "<matplotlib.figure.Figure at 0x1ff867f5ef0>"
      ]
     },
     "metadata": {},
     "output_type": "display_data"
    }
   ],
   "source": [
    "x = np.linspace(0, 1,100)\n",
    "x2 = np.arange(1,101,1)\n",
    "fig,ax = plt.subplots(1)\n",
    "pdf_beta =beta(a=8,b=2).pdf(x)\n",
    "pdf_binom = binom(n=43,p=15/43).pmf(x2)\n",
    "pdf_beta2 = beta(a=23,b=30).pdf(x)\n",
    "ax.plot(x,pdf_beta,label = 'Prior')\n",
    "ax.plot(x,pdf_binom,label = 'Likelihood')\n",
    "ax.plot(x,pdf_beta2,label = 'Posterior')\n",
    "#plt.show()\n",
    "ax.legend()\n",
    "#plt.savefig('F:/JAY/COURSES/STAT_638/HomeWork/HW2/3_4(b).png')"
   ]
  },
  {
   "cell_type": "code",
   "execution_count": 105,
   "metadata": {},
   "outputs": [],
   "source": [
    "binom?"
   ]
  },
  {
   "cell_type": "code",
   "execution_count": 112,
   "metadata": {},
   "outputs": [
    {
     "data": {
      "image/png": "[encoded data removed]",
      "text/plain": [
       "<matplotlib.figure.Figure at 0x1ff8672d0f0>"
      ]
     },
     "metadata": {},
     "output_type": "display_data"
    }
   ],
   "source": [
    "x = np.linspace(0, 1,100)\n",
    "fig,ax = plt.subplots(1)\n",
    "pdf_beta =beta(a=2,b=8).pdf(x)\n",
    "#pdf_binom = binom(n=43).pmf(x)\n",
    "pdf_beta2 = beta(a=8,b=2).pdf(x)\n",
    "pdf_mixture = 0.75*pdf_beta +0.25*pdf_beta2\n",
    "ax.plot(x,pdf_mixture,label = 'Prior')\n",
    "plt.savefig('F:/JAY/COURSES/STAT_638/HomeWork/HW2/3_4(c).png')"
   ]
  },
  {
   "cell_type": "code",
   "execution_count": 113,
   "metadata": {},
   "outputs": [
    {
     "data": {
      "image/png": "[encoded data removed]",
      "text/plain": [
       "<matplotlib.figure.Figure at 0x1ff8565a630>"
      ]
     },
     "metadata": {},
     "output_type": "display_data"
    }
   ],
   "source": [
    "x = np.linspace(0, 1,100)\n",
    "fig,ax = plt.subplots(1)\n",
    "pdf_beta =beta(a=3,b=14).pdf(x)\n",
    "#pdf_binom = binom(n=43).pmf(x)\n",
    "pdf_beta2 = beta(a=8,b=2).pdf(x)\n",
    "pdf_mixture = 0.75*pdf_beta +0.25*pdf_beta2\n",
    "ax.plot(x,pdf_beta,label = 'Prior')\n",
    "plt.savefig('F:/JAY/COURSES/STAT_638/HomeWork/HW2/3_12(a).png')"
   ]
  },
  {
   "cell_type": "code",
   "execution_count": 116,
   "metadata": {},
   "outputs": [
    {
     "data": {
      "text/plain": [
       "20922789888000.0"
      ]
     },
     "execution_count": 116,
     "metadata": {},
     "output_type": "execute_result"
    }
   ],
   "source": [
    "math.gamma(17)"
   ]
  },
  {
   "cell_type": "code",
   "execution_count": 129,
   "metadata": {},
   "outputs": [
    {
     "data": {
      "text/plain": [
       "<matplotlib.collections.LineCollection at 0x1ff86a80f28>"
      ]
     },
     "execution_count": 129,
     "metadata": {},
     "output_type": "execute_result"
    }
   ],
   "source": [
    "n = 100; p = 0.5\n",
    "ax.plot(x, binom.pmf(x, n, p), 'bo', ms=8, label='binom pmf')\n",
    "ax.vlines(x, 0, binom.pmf(x, n, p), colors='b', lw=5, alpha=0.5)\n",
    "#plt.show()"
   ]
  },
  {
   "cell_type": "code",
   "execution_count": 121,
   "metadata": {},
   "outputs": [],
   "source": [
    "binom?"
   ]
  },
  {
   "cell_type": "code",
   "execution_count": 128,
   "metadata": {},
   "outputs": [],
   "source": [
    "# Binomial density Estimation Function\n",
    "def factorial(n): \n",
    "    if n < 2: return 1\n",
    "    return reduce(lambda x, y: x*y, xrange(2, int(n)+1))\n",
    "\n",
    "def prob(s, p, n):\n",
    "    x = 1.0 - p\n",
    "\n",
    "    a = n - s\n",
    "    b = s + 1\n",
    "\n",
    "    c = a + b - 1\n",
    "\n",
    "    prob = 0.0\n",
    "\n",
    "    for j in xrange(a, c + 1):\n",
    "        prob += factorial(c) / (factorial(j)*factorial(c-j)) \\\n",
    "                * x**j * (1 - x)**(c-j)\n",
    "\n",
    "    return prob"
   ]
  },
  {
   "cell_type": "code",
   "execution_count": null,
   "metadata": {},
   "outputs": [],
   "source": [
    "prob(20, 0.3, 100)"
   ]
  }
 ],
 "metadata": {
  "kernelspec": {
   "display_name": "Python 3",
   "language": "python",
   "name": "python3"
  },
  "language_info": {
   "codemirror_mode": {
    "name": "ipython",
    "version": 3
   },
   "file_extension": ".py",
   "mimetype": "text/x-python",
   "name": "python",
   "nbconvert_exporter": "python",
   "pygments_lexer": "ipython3",
   "version": "3.6.3"
  }
 },
 "nbformat": 4,
 "nbformat_minor": 2
}
