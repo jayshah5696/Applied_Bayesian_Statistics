{
 "cells": [
  {
   "cell_type": "code",
   "execution_count": 1,
   "metadata": {},
   "outputs": [],
   "source": [
    "import numpy as np\n",
    "import pandas as pd\n",
    "import seaborn as sns\n",
    "import matplotlib.pyplot as plt\n",
    "import warnings\n",
    "warnings.filterwarnings('ignore')"
   ]
  },
  {
   "cell_type": "code",
   "execution_count": 44,
   "metadata": {},
   "outputs": [],
   "source": [
    "def HPD_gamma(n,ybar,guesses,C,niter=20):\n",
    "    \"\"\"\n",
    "    This function is used to find a HPD Region for an Exponential Rate.\n",
    "    \n",
    "    In the case of Exponential Rate, Posterior probability is Gamma Density.\n",
    "    \n",
    "    To find an HPD Region, we are going to use following algorithm.\n",
    "    \n",
    "    Choose a value of K to get theta0 and theta1,\n",
    "    Use newton method to solve the equation p(theta|y) =k, for its two solution.\n",
    "    Evaluate  prob = p(theta < theta0|y) + p(theta > theta1|y)\n",
    "    \n",
    "    if prob is close to 0.05, then stop and use (theta0, theta1) as the HPD Region.\n",
    "    otherwise repeat the step with different guess.\n",
    "    \n",
    "    gamma uses rate parameterization. \n",
    "    \n",
    "    \"\"\"\n",
    "    from math import gamma,lgamma, log\n",
    "    from scipy.stats import gamma\n",
    "    \n",
    "    \n",
    "    alpha = n\n",
    "    beta = n*ybar\n",
    "    con = alpha*log(beta)-lgamma(alpha)-log(C) # Constant here C is same as K\n",
    "    \n",
    "    theta0 = guesses[0]\n",
    "    theta1 = guesses[1]\n",
    "    \n",
    "    for i in range(0,niter):\n",
    "        theta0=theta0-(con+(alpha-1)*log(theta0)-beta*theta0)/((alpha-1)/theta0-beta)\n",
    "        \n",
    "        theta1=theta1-(con+(alpha-1)*log(theta1)-beta*theta1)/((alpha-1)/theta1-beta)\n",
    "        \n",
    "    \n",
    "    p1 = gamma.cdf(x=theta0,a=alpha,scale = 1/beta)\n",
    "    p2 = 1 - gamma.cdf(x= theta1,a=alpha,scale = 1/beta)\n",
    "    return [theta0,theta1,p1,p2,p1+p2]"
   ]
  },
  {
   "cell_type": "code",
   "execution_count": 45,
   "metadata": {},
   "outputs": [
    {
     "data": {
      "text/plain": [
       "[0.0010047250398282123,\n",
       " 0.0016382592721619624,\n",
       " 0.035255822283253357,\n",
       " 0.052846296044812391,\n",
       " 0.088102118328065748]"
      ]
     },
     "execution_count": 45,
     "metadata": {},
     "output_type": "execute_result"
    }
   ],
   "source": [
    "HPD_gamma(50,756.3,[0.001,0.0017],500)"
   ]
  },
  {
   "cell_type": "code",
   "execution_count": 37,
   "metadata": {},
   "outputs": [
    {
     "data": {
      "text/plain": [
       "[0.0009330382513331387,\n",
       " 0.0017421978192361319,\n",
       " 0.011261385068757099,\n",
       " 0.018291747709398787,\n",
       " 0.029553132778155886]"
      ]
     },
     "execution_count": 37,
     "metadata": {},
     "output_type": "execute_result"
    }
   ],
   "source": [
    "HPD_gamma(50,756.3,[0.001,0.0017],200)"
   ]
  },
  {
   "cell_type": "code",
   "execution_count": 43,
   "metadata": {},
   "outputs": [
    {
     "data": {
      "text/plain": [
       "[0.0009655949278231253,\n",
       " 0.0016938235408311105,\n",
       " 0.0195218153577458,\n",
       " 0.030546387120285234,\n",
       " 0.050068202478031038]"
      ]
     },
     "execution_count": 43,
     "metadata": {},
     "output_type": "execute_result"
    }
   ],
   "source": [
    "HPD_gamma(50,756.3,[0.001,0.0017],313.5)"
   ]
  },
  {
   "cell_type": "code",
   "execution_count": 32,
   "metadata": {},
   "outputs": [
    {
     "data": {
      "text/plain": [
       "0.80085172652854419"
      ]
     },
     "execution_count": 32,
     "metadata": {},
     "output_type": "execute_result"
    }
   ],
   "source": [
    "gamma.cdf(x=3,a=2,loc=0,scale=1)"
   ]
  },
  {
   "cell_type": "code",
   "execution_count": 49,
   "metadata": {},
   "outputs": [
    {
     "data": {
      "text/plain": [
       "array([ 0.00149764,  0.00184344,  0.00101873, ...,  0.00112652,\n",
       "        0.00115368,  0.00157137])"
      ]
     },
     "execution_count": 49,
     "metadata": {},
     "output_type": "execute_result"
    }
   ],
   "source": [
    "gamma.rvs(a=50,scale=1/37815,size=100000)"
   ]
  },
  {
   "cell_type": "code",
   "execution_count": 50,
   "metadata": {},
   "outputs": [],
   "source": [
    "theta = gamma.rvs(a=50,scale=1/37815,size=100000)\n",
    "beta = 1 /theta"
   ]
  },
  {
   "cell_type": "code",
   "execution_count": 51,
   "metadata": {},
   "outputs": [
    {
     "data": {
      "text/plain": [
       "772.00229537324799"
      ]
     },
     "execution_count": 51,
     "metadata": {},
     "output_type": "execute_result"
    }
   ],
   "source": [
    "beta.mean()"
   ]
  },
  {
   "cell_type": "code",
   "execution_count": 52,
   "metadata": {},
   "outputs": [
    {
     "data": {
      "text/plain": [
       "111.96168900992531"
      ]
     },
     "execution_count": 52,
     "metadata": {},
     "output_type": "execute_result"
    }
   ],
   "source": [
    "beta.std()"
   ]
  },
  {
   "cell_type": "code",
   "execution_count": 54,
   "metadata": {},
   "outputs": [],
   "source": [
    "from sklearn.neighbors import KernelDensity\n",
    "from scipy.stats import gaussian_kde\n",
    "from statsmodels.nonparametric.kde import KDEUnivariate\n",
    "from statsmodels.nonparametric.kernel_density import KDEMultivariate\n",
    "\n",
    "\n",
    "def kde_scipy(x, x_grid, bandwidth=0.2, **kwargs):\n",
    "    \"\"\"Kernel Density Estimation with Scipy\"\"\"\n",
    "    # Note that scipy weights its bandwidth by the covariance of the\n",
    "    # input data.  To make the results comparable to the other methods,\n",
    "    # we divide the bandwidth by the sample standard deviation here.\n",
    "    kde = gaussian_kde(x, bw_method=bandwidth / x.std(ddof=1), **kwargs)\n",
    "    return kde.evaluate(x_grid)\n",
    "\n",
    "\n",
    "def kde_statsmodels_u(x, x_grid, bandwidth=0.2, **kwargs):\n",
    "    \"\"\"Univariate Kernel Density Estimation with Statsmodels\"\"\"\n",
    "    kde = KDEUnivariate(x)\n",
    "    kde.fit(bw=bandwidth, **kwargs)\n",
    "    return kde.evaluate(x_grid)\n",
    "    \n",
    "    \n",
    "def kde_statsmodels_m(x, x_grid, bandwidth=0.2, **kwargs):\n",
    "    \"\"\"Multivariate Kernel Density Estimation with Statsmodels\"\"\"\n",
    "    kde = KDEMultivariate(x, bw=bandwidth * np.ones_like(x),\n",
    "                          var_type='c', **kwargs)\n",
    "    return kde.pdf(x_grid)\n",
    "\n",
    "\n",
    "def kde_sklearn(x, x_grid, bandwidth=0.2, **kwargs):\n",
    "    \"\"\"Kernel Density Estimation with Scikit-learn\"\"\"\n",
    "    kde_skl = KernelDensity(bandwidth=bandwidth, **kwargs)\n",
    "    kde_skl.fit(x[:, np.newaxis])\n",
    "    # score_samples() returns the log-likelihood of the samples\n",
    "    log_pdf = kde_skl.score_samples(x_grid[:, np.newaxis])\n",
    "    return np.exp(log_pdf)"
   ]
  },
  {
   "cell_type": "code",
   "execution_count": 55,
   "metadata": {},
   "outputs": [],
   "source": [
    "kde_funcs = [kde_statsmodels_u, kde_statsmodels_m, kde_scipy, kde_sklearn]\n",
    "kde_funcnames = ['Statsmodels-U', 'Statsmodels-M', 'Scipy', 'Scikit-learn']"
   ]
  },
  {
   "cell_type": "code",
   "execution_count": 59,
   "metadata": {},
   "outputs": [
    {
     "name": "stdout",
     "output_type": "stream",
     "text": [
      "0\n",
      "1\n",
      "2\n",
      "3\n"
     ]
    },
    {
     "data": {
      "image/png": "[encoded data removed]",
      "text/plain": [
       "<matplotlib.figure.Figure at 0x1ff85014a90>"
      ]
     },
     "metadata": {},
     "output_type": "display_data"
    }
   ],
   "source": [
    "fig, ax = plt.subplots(1, 4, sharey=True,\n",
    "                       figsize=(13, 3))\n",
    "fig.subplots_adjust(wspace=0)\n",
    "x_grid = np.linspace(400, 1500, 1000)\n",
    "x = beta\n",
    "for i in range(4):\n",
    "    print(i)\n",
    "    try:\n",
    "        pdf = kde_funcs[i](x, x_grid, bandwidth=15)\n",
    "        ax[i].plot(x_grid, pdf, color='blue', alpha=0.5, lw=3)\n",
    "        #ax[i].fill(x_grid, pdf_true, ec='gray', fc='gray', alpha=0.4)\n",
    "        ax[i].set_title(kde_funcnames[i])\n",
    "        ax[i].set_xlim(398, 1550)\n",
    "    except:\n",
    "        pass\n",
    "plt.show()"
   ]
  },
  {
   "cell_type": "code",
   "execution_count": null,
   "metadata": {},
   "outputs": [],
   "source": []
  }
 ],
 "metadata": {
  "kernelspec": {
   "display_name": "Python 3",
   "language": "python",
   "name": "python3"
  },
  "language_info": {
   "codemirror_mode": {
    "name": "ipython",
    "version": 3
   },
   "file_extension": ".py",
   "mimetype": "text/x-python",
   "name": "python",
   "nbconvert_exporter": "python",
   "pygments_lexer": "ipython3",
   "version": "3.6.3"
  }
 },
 "nbformat": 4,
 "nbformat_minor": 2
}
