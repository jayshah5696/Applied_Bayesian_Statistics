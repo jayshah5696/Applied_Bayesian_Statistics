{
 "cells": [
  {
   "cell_type": "code",
   "execution_count": 1,
   "metadata": {},
   "outputs": [],
   "source": [
    "import numpy as np\n",
    "import pandas as pd\n",
    "import seaborn as sns\n",
    "import matplotlib.pyplot as plt\n",
    "import warnings\n",
    "warnings.filterwarnings('ignore')"
   ]
  },
  {
   "cell_type": "code",
   "execution_count": 44,
   "metadata": {},
   "outputs": [],
   "source": [
    "def HPD_gamma(n,ybar,guesses,C,niter=20):\n",
    "    \"\"\"\n",
    "    This function is used to find a HPD Region for an Exponential Rate.\n",
    "    \n",
    "    In the case of Exponential Rate, Posterior probability is Gamma Density.\n",
    "    \n",
    "    To find an HPD Region, we are going to use following algorithm.\n",
    "    \n",
    "    Choose a value of K to get theta0 and theta1,\n",
    "    Use newton method to solve the equation p(theta|y) =k, for its two solution.\n",
    "    Evaluate  prob = p(theta < theta0|y) + p(theta > theta1|y)\n",
    "    \n",
    "    if prob is close to 0.05, then stop and use (theta0, theta1) as the HPD Region.\n",
    "    otherwise repeat the step with different guess.\n",
    "    \n",
    "    gamma uses rate parameterization. \n",
    "    \n",
    "    \"\"\"\n",
    "    from math import gamma,lgamma, log\n",
    "    from scipy.stats import gamma\n",
    "    \n",
    "    \n",
    "    alpha = n\n",
    "    beta = n*ybar\n",
    "    con = alpha*log(beta)-lgamma(alpha)-log(C) # Constant here C is same as K\n",
    "    \n",
    "    theta0 = guesses[0]\n",
    "    theta1 = guesses[1]\n",
    "    \n",
    "    for i in range(0,niter):\n",
    "        theta0=theta0-(con+(alpha-1)*log(theta0)-beta*theta0)/((alpha-1)/theta0-beta)\n",
    "        \n",
    "        theta1=theta1-(con+(alpha-1)*log(theta1)-beta*theta1)/((alpha-1)/theta1-beta)\n",
    "        \n",
    "    \n",
    "    p1 = gamma.cdf(x=theta0,a=alpha,scale = 1/beta)\n",
    "    p2 = 1 - gamma.cdf(x= theta1,a=alpha,scale = 1/beta)\n",
    "    return [theta0,theta1,p1,p2,p1+p2]"
   ]
  },
  {
   "cell_type": "code",
   "execution_count": 45,
   "metadata": {},
   "outputs": [
    {
     "data": {
      "text/plain": [
       "[0.0010047250398282123,\n",
       " 0.0016382592721619624,\n",
       " 0.035255822283253357,\n",
       " 0.052846296044812391,\n",
       " 0.088102118328065748]"
      ]
     },
     "execution_count": 45,
     "metadata": {},
     "output_type": "execute_result"
    }
   ],
   "source": [
    "HPD_gamma(50,756.3,[0.001,0.0017],500)"
   ]
  },
  {
   "cell_type": "code",
   "execution_count": 37,
   "metadata": {},
   "outputs": [
    {
     "data": {
      "text/plain": [
       "[0.0009330382513331387,\n",
       " 0.0017421978192361319,\n",
       " 0.011261385068757099,\n",
       " 0.018291747709398787,\n",
       " 0.029553132778155886]"
      ]
     },
     "execution_count": 37,
     "metadata": {},
     "output_type": "execute_result"
    }
   ],
   "source": [
    "HPD_gamma(50,756.3,[0.001,0.0017],200)"
   ]
  },
  {
   "cell_type": "code",
   "execution_count": 43,
   "metadata": {},
   "outputs": [
    {
     "data": {
      "text/plain": [
       "[0.0009655949278231253,\n",
       " 0.0016938235408311105,\n",
       " 0.0195218153577458,\n",
       " 0.030546387120285234,\n",
       " 0.050068202478031038]"
      ]
     },
     "execution_count": 43,
     "metadata": {},
     "output_type": "execute_result"
    }
   ],
   "source": [
    "HPD_gamma(50,756.3,[0.001,0.0017],313.5)"
   ]
  },
  {
   "cell_type": "code",
   "execution_count": 32,
   "metadata": {},
   "outputs": [
    {
     "data": {
      "text/plain": [
       "0.80085172652854419"
      ]
     },
     "execution_count": 32,
     "metadata": {},
     "output_type": "execute_result"
    }
   ],
   "source": [
    "gamma.cdf(x=3,a=2,loc=0,scale=1)"
   ]
  },
  {
   "cell_type": "code",
   "execution_count": null,
   "metadata": {},
   "outputs": [],
   "source": []
  }
 ],
 "metadata": {
  "kernelspec": {
   "display_name": "Python 3",
   "language": "python",
   "name": "python3"
  },
  "language_info": {
   "codemirror_mode": {
    "name": "ipython",
    "version": 3
   },
   "file_extension": ".py",
   "mimetype": "text/x-python",
   "name": "python",
   "nbconvert_exporter": "python",
   "pygments_lexer": "ipython3",
   "version": "3.6.3"
  }
 },
 "nbformat": 4,
 "nbformat_minor": 2
}
